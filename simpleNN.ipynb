{
 "cells": [
  {
   "cell_type": "code",
   "execution_count": 1,
   "metadata": {},
   "outputs": [],
   "source": [
    "import numpy as np\n",
    "import pandas as pd\n",
    "from matplotlib import pyplot as plt"
   ]
  },
  {
   "cell_type": "code",
   "execution_count": null,
   "metadata": {},
   "outputs": [],
   "source": [
    "data=pd.read_csv(\"\")"
   ]
  },
  {
   "cell_type": "code",
   "execution_count": null,
   "metadata": {},
   "outputs": [],
   "source": [
    "data= np.array(data)\n",
    "m,n =data.shape\n",
    "np.random.shuffle(data)\n",
    "\n",
    "dataDev= data[0:1000].T\n",
    "yDev=dataDev[0]\n",
    "xDev=dataDev[1:n]\n",
    "xDev=xDev/255.\n",
    "\n",
    "dataTrain=data[1000:m].T\n",
    "yTrain=dataTrain[0]\n",
    "xTrain=dataTrain[1:n]\n",
    "xTrain=xTrain/255.\n",
    "_,m=xTrain.shape"
   ]
  },
  {
   "cell_type": "code",
   "execution_count": null,
   "metadata": {},
   "outputs": [],
   "source": [
    "yTrain\n",
    "12345678"
   ]
  }
 ],
 "metadata": {
  "interpreter": {
   "hash": "596f6ff1fdb34b68d18bd87b154dfc694f3cc2576ba7050b8d1267f5a803c286"
  },
  "kernelspec": {
   "display_name": "Python 3.8.13 ('base')",
   "language": "python",
   "name": "python3"
  },
  "language_info": {
   "codemirror_mode": {
    "name": "ipython",
    "version": 3
   },
   "file_extension": ".py",
   "mimetype": "text/x-python",
   "name": "python",
   "nbconvert_exporter": "python",
   "pygments_lexer": "ipython3",
   "version": "3.8.13"
  },
  "orig_nbformat": 4
 },
 "nbformat": 4,
 "nbformat_minor": 2
}
